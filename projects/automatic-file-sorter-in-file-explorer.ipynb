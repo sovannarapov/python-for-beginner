{
 "cells": [
  {
   "cell_type": "code",
   "execution_count": 28,
   "id": "1de56cc1-0d78-4f1f-a0c2-aba62c60b289",
   "metadata": {},
   "outputs": [],
   "source": [
    "import os, shutil"
   ]
  },
  {
   "cell_type": "code",
   "execution_count": 29,
   "id": "085c197d-0bb9-46e5-8f38-3e0f6a3081f0",
   "metadata": {},
   "outputs": [],
   "source": [
    "path = r'/Users/sovannara/Desktop/'"
   ]
  },
  {
   "cell_type": "code",
   "execution_count": 30,
   "id": "ccc0921d-b2cc-46ec-9ba1-b833c7a300ba",
   "metadata": {},
   "outputs": [],
   "source": [
    "file_name = os.listdir(path)"
   ]
  },
  {
   "cell_type": "code",
   "execution_count": 31,
   "id": "afb079aa-5830-47dd-b829-154fc1aec558",
   "metadata": {},
   "outputs": [],
   "source": [
    "folder_names = ['CSV', 'IMAGE', 'TEXT']\n",
    "\n",
    "# Loop to check if folder not exist then create the folder\n",
    "for folder_name in range(0, len(folder_names)):\n",
    "    if not os.path.exists(path + folder_names[folder_name]):\n",
    "        os.makedirs(path + folder_names[folder_name])\n",
    "\n",
    "# Loop to check if file extension .csv, .png, .txt not exist inside folder then move them into the folder\n",
    "for file in file_name:\n",
    "    if '.csv' in file and not os.path.exists(path + 'CSV/' + file):\n",
    "        shutil.move(path + file, path + 'CSV/' + file)\n",
    "    elif '.png' in file and not os.path.exists(path + 'IMAGE/' + file):\n",
    "        shutil.move(path + file, path + 'IMAGE/' + file)\n",
    "    elif '.txt' in file and not os.path.exists(path + 'TEXT/' + file):\n",
    "        shutil.move(path + file, path + 'TEXT/' + file)"
   ]
  },
  {
   "cell_type": "code",
   "execution_count": null,
   "id": "b82ff219-a096-4071-a406-9ecf8e2c8172",
   "metadata": {},
   "outputs": [],
   "source": []
  }
 ],
 "metadata": {
  "kernelspec": {
   "display_name": "Python 3 (ipykernel)",
   "language": "python",
   "name": "python3"
  },
  "language_info": {
   "codemirror_mode": {
    "name": "ipython",
    "version": 3
   },
   "file_extension": ".py",
   "mimetype": "text/x-python",
   "name": "python",
   "nbconvert_exporter": "python",
   "pygments_lexer": "ipython3",
   "version": "3.11.7"
  }
 },
 "nbformat": 4,
 "nbformat_minor": 5
}
