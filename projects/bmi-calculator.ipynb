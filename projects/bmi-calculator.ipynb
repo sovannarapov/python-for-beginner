{
 "cells": [
  {
   "cell_type": "code",
   "execution_count": 1,
   "id": "9e89e2a4-427a-4440-a38c-6b61a8ae6440",
   "metadata": {},
   "outputs": [
    {
     "name": "stdin",
     "output_type": "stream",
     "text": [
      "Enter your name = john\n",
      "Enter your weight = 170\n",
      "Enter your height = 69\n"
     ]
    },
    {
     "name": "stdout",
     "output_type": "stream",
     "text": [
      "-----------------------\n",
      "The BMI result = 25.101869355177485\n",
      "-----------------------\n",
      "John, you are overweight.\n"
     ]
    }
   ],
   "source": [
    "name = input('Enter your name =').capitalize()\n",
    "\n",
    "weight = float(input('Enter your weight ='))\n",
    "\n",
    "height = float(input('Enter your height ='))\n",
    "\n",
    "bmi = (weight * 703) / (height * height)\n",
    "\n",
    "print('-----------------------')\n",
    "\n",
    "print(f'The BMI result = {bmi}')\n",
    "\n",
    "print('-----------------------')\n",
    "\n",
    "if bmi > 0:\n",
    "    if bmi < 18.5:\n",
    "        print(f'{name}, you are underweight.')\n",
    "    elif bmi <= 24.9:\n",
    "        print(f'{name}, you are normal weight.')\n",
    "    elif bmi <= 29.9:\n",
    "        print(f'{name}, you are overweight.')\n",
    "    elif bmi <= 34.9:\n",
    "        print(f'{name}, you are obese.')\n",
    "    elif bmi <= 39.9:\n",
    "        print(f'{name}, you are severelly obese.')\n",
    "    else:\n",
    "        print(f'{name}, you are morbidly obese.')\n",
    "else:\n",
    "    print('Invalid Input!')"
   ]
  },
  {
   "cell_type": "code",
   "execution_count": null,
   "id": "a8911567-60cb-4222-93f4-74d84ae7f1b3",
   "metadata": {},
   "outputs": [],
   "source": []
  },
  {
   "cell_type": "code",
   "execution_count": null,
   "id": "67ec4959-702a-4b7d-a585-71f43eb1639a",
   "metadata": {},
   "outputs": [],
   "source": [
    "#BMI = (weight in pounds x 703) / (height in inches x height in inches)"
   ]
  },
  {
   "cell_type": "code",
   "execution_count": null,
   "id": "58f92682-2f08-4d50-8900-6f46643d0d6e",
   "metadata": {},
   "outputs": [],
   "source": [
    "# Under 18.5\tUnderweight\tMinimal\n",
    "# 18.5 - 24.9\tNormal Weight\tMinimal\n",
    "# 25 - 29.9\tOverweight\tIncreased\n",
    "# 30 - 34.9\tObese\tHigh\n",
    "# 35 - 39.9\tSeverely Obese\tVery High\n",
    "# 40 and over\tMorbidly Obese\tExtremely High"
   ]
  },
  {
   "cell_type": "code",
   "execution_count": null,
   "id": "0a89d19b-c1db-41df-8984-4512f6ef275f",
   "metadata": {},
   "outputs": [],
   "source": []
  }
 ],
 "metadata": {
  "kernelspec": {
   "display_name": "Python 3 (ipykernel)",
   "language": "python",
   "name": "python3"
  },
  "language_info": {
   "codemirror_mode": {
    "name": "ipython",
    "version": 3
   },
   "file_extension": ".py",
   "mimetype": "text/x-python",
   "name": "python",
   "nbconvert_exporter": "python",
   "pygments_lexer": "ipython3",
   "version": "3.11.7"
  }
 },
 "nbformat": 4,
 "nbformat_minor": 5
}
